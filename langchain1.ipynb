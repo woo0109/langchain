{
 "cells": [
  {
   "cell_type": "code",
   "execution_count": null,
   "metadata": {},
   "outputs": [
    {
     "name": "stdout",
     "output_type": "stream",
     "text": [
      "content='대한민국의 수도는 서울이에요.' additional_kwargs={'refusal': None} response_metadata={'token_usage': {'completion_tokens': 18, 'prompt_tokens': 22, 'total_tokens': 40, 'completion_tokens_details': {'accepted_prediction_tokens': 0, 'audio_tokens': 0, 'reasoning_tokens': 0, 'rejected_prediction_tokens': 0}, 'prompt_tokens_details': {'audio_tokens': 0, 'cached_tokens': 0}}, 'model_name': 'gpt-3.5-turbo-0125', 'system_fingerprint': None, 'id': 'chatcmpl-BCNrNObFpTdi4LbCOHwnAJXxKnVyf', 'finish_reason': 'stop', 'logprobs': None} id='run-deeb8c58-1623-4a84-9c7e-acbe57a5ff09-0' usage_metadata={'input_tokens': 22, 'output_tokens': 18, 'total_tokens': 40, 'input_token_details': {'audio': 0, 'cache_read': 0}, 'output_token_details': {'audio': 0, 'reasoning': 0}}\n"
     ]
    }
   ],
   "source": [
    "from dotenv import load_dotenv\n",
    "import os\n",
    "\n",
    "load_dotenv()\n",
    "\n",
    "# API 키 설정\n",
    "os.environ[\"OPENAI_API_KEY\"] = os.getenv(\"OPENAI_API_KEY\")\n",
    "os.environ[\"LANGCHAIN_PROJECT\"] = \"Runnables\"\n",
    "\n",
    "from langchain_core.runnables import (\n",
    "    RunnableParallel,\n",
    "    RunnablePassthrough,\n",
    "    RunnableLambda\n",
    ")\n",
    "\n",
    "from langchain.prompts import PromptTemplate\n",
    "\n",
    "# 프롬프트 템플릿 생성\n",
    "prompt = PromptTemplate.from_template(\"{country}의 수도는 어디야?\")\n",
    "\n",
    "from langchain_openai import ChatOpenAI\n",
    "\n",
    "# 모델 초기화\n",
    "model = ChatOpenAI()\n",
    "\n",
    "# 체인 연결\n",
    "chain = prompt | model \n",
    "\n",
    "# 체인 실행\n",
    "response = chain.invoke({\"country\" : \"대한민국\"})\n",
    "\n",
    "# 결과 출력\n",
    "print(response)\n"
   ]
  },
  {
   "cell_type": "code",
   "execution_count": 3,
   "metadata": {},
   "outputs": [
    {
     "data": {
      "text/plain": [
       "AIMessage(content='대한민국의 수도는 서울이에요.', additional_kwargs={'refusal': None}, response_metadata={'token_usage': {'completion_tokens': 18, 'prompt_tokens': 22, 'total_tokens': 40, 'completion_tokens_details': {'accepted_prediction_tokens': 0, 'audio_tokens': 0, 'reasoning_tokens': 0, 'rejected_prediction_tokens': 0}, 'prompt_tokens_details': {'audio_tokens': 0, 'cached_tokens': 0}}, 'model_name': 'gpt-3.5-turbo-0125', 'system_fingerprint': None, 'id': 'chatcmpl-BCNrjdk1J5SN5uIi9MFEwo7ekIO5a', 'finish_reason': 'stop', 'logprobs': None}, id='run-7a1e0132-af08-4fff-9bff-cf530120508d-0', usage_metadata={'input_tokens': 22, 'output_tokens': 18, 'total_tokens': 40, 'input_token_details': {'audio': 0, 'cache_read': 0}, 'output_token_details': {'audio': 0, 'reasoning': 0}})"
      ]
     },
     "execution_count": 3,
     "metadata": {},
     "output_type": "execute_result"
    }
   ],
   "source": [
    "chain = {\"country\" : RunnablePassthrough()} | prompt | model\n",
    "chain.invoke(\"대한민국\")"
   ]
  },
  {
   "cell_type": "code",
   "execution_count": 4,
   "metadata": {},
   "outputs": [
    {
     "data": {
      "text/plain": [
       "{'a': AIMessage(content='대한민국의 수도는 서울이야.', additional_kwargs={'refusal': None}, response_metadata={'token_usage': {'completion_tokens': 17, 'prompt_tokens': 22, 'total_tokens': 39, 'completion_tokens_details': {'accepted_prediction_tokens': 0, 'audio_tokens': 0, 'reasoning_tokens': 0, 'rejected_prediction_tokens': 0}, 'prompt_tokens_details': {'audio_tokens': 0, 'cached_tokens': 0}}, 'model_name': 'gpt-3.5-turbo-0125', 'system_fingerprint': None, 'id': 'chatcmpl-BCNrrJr0nBNJUYUgcQSWt5qGryI8Z', 'finish_reason': 'stop', 'logprobs': None}, id='run-44a3d44b-a417-4be1-bf3a-d167a6a72f9d-0', usage_metadata={'input_tokens': 22, 'output_tokens': 17, 'total_tokens': 39, 'input_token_details': {'audio': 0, 'cache_read': 0}, 'output_token_details': {'audio': 0, 'reasoning': 0}}),\n",
       " 'b': AIMessage(content='2021년 9월 기준 대한민국의 인구는 약 5천8백만 명입니다.', additional_kwargs={'refusal': None}, response_metadata={'token_usage': {'completion_tokens': 36, 'prompt_tokens': 23, 'total_tokens': 59, 'completion_tokens_details': {'accepted_prediction_tokens': 0, 'audio_tokens': 0, 'reasoning_tokens': 0, 'rejected_prediction_tokens': 0}, 'prompt_tokens_details': {'audio_tokens': 0, 'cached_tokens': 0}}, 'model_name': 'gpt-3.5-turbo-0125', 'system_fingerprint': None, 'id': 'chatcmpl-BCNrrCIJDchffUzPxwGTZhgRu7pma', 'finish_reason': 'stop', 'logprobs': None}, id='run-428cb481-9c1b-4a96-a081-a9f054f96300-0', usage_metadata={'input_tokens': 23, 'output_tokens': 36, 'total_tokens': 59, 'input_token_details': {'audio': 0, 'cache_read': 0}, 'output_token_details': {'audio': 0, 'reasoning': 0}})}"
      ]
     },
     "execution_count": 4,
     "metadata": {},
     "output_type": "execute_result"
    }
   ],
   "source": [
    "prompt1 = PromptTemplate.from_template(\"{country}의 수도는 어디야?\")\n",
    "prompt2 = PromptTemplate.from_template(\"{country}의 인구는 몇명이야?\")\n",
    "\n",
    "chain1 = {\"country\" : RunnablePassthrough()} | prompt1 | model\n",
    "chain2 = {\"country\" : RunnablePassthrough()} | prompt2 | model\n",
    "\n",
    "map_chain = RunnableParallel(a = chain1, b = chain2)\n",
    "map_chain.invoke(\"대한민국\")"
   ]
  },
  {
   "cell_type": "code",
   "execution_count": null,
   "metadata": {},
   "outputs": [
    {
     "data": {
      "text/plain": [
       "AIMessage(content='대한민국의 수도는 서울이다. 2021년 7월 기준 대한민국의 인구는 약 51,069,375명입니다. 🙂', additional_kwargs={'refusal': None}, response_metadata={'token_usage': {'completion_tokens': 51, 'prompt_tokens': 100, 'total_tokens': 151, 'completion_tokens_details': {'accepted_prediction_tokens': 0, 'audio_tokens': 0, 'reasoning_tokens': 0, 'rejected_prediction_tokens': 0}, 'prompt_tokens_details': {'audio_tokens': 0, 'cached_tokens': 0}}, 'model_name': 'gpt-3.5-turbo-0125', 'system_fingerprint': None, 'id': 'chatcmpl-BCNv0QfjyoIu5H2t3iSt6al6PUNqg', 'finish_reason': 'stop', 'logprobs': None}, id='run-e4696c49-664f-471a-8b76-0ae00f62e47a-0', usage_metadata={'input_tokens': 100, 'output_tokens': 51, 'total_tokens': 151, 'input_token_details': {'audio': 0, 'cache_read': 0}, 'output_token_details': {'audio': 0, 'reasoning': 0}})"
      ]
     },
     "execution_count": 6,
     "metadata": {},
     "output_type": "execute_result"
    }
   ],
   "source": [
    "def combine_text(text):\n",
    "    return text[\"a\"].content + ' ' + text[\"b\"].content\n",
    "\n",
    "final_chain = (\n",
    "    map_chain\n",
    "    | {\"info\" : RunnableLambda(combine_text)}\n",
    "    | PromptTemplate.from_template(\"다음의 내용을 자연스럽게 교정해줘. 이모티콘을 적절한 위치에 추가해줘: \\n{info}\")\n",
    "    | model\n",
    ")\n",
    "C:\\Users\\조우형\\Desktop\\컴과\\Langchain\n",
    "final_chain.invoke(\"대한민국\")"
   ]
  }
 ],
 "metadata": {
  "kernelspec": {
   "display_name": "base",
   "language": "python",
   "name": "python3"
  },
  "language_info": {
   "codemirror_mode": {
    "name": "ipython",
    "version": 3
   },
   "file_extension": ".py",
   "mimetype": "text/x-python",
   "name": "python",
   "nbconvert_exporter": "python",
   "pygments_lexer": "ipython3",
   "version": "3.11.7"
  }
 },
 "nbformat": 4,
 "nbformat_minor": 2
}
